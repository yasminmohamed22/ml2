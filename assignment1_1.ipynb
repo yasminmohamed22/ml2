{
  "nbformat": 4,
  "nbformat_minor": 0,
  "metadata": {
    "colab": {
      "name": "assignment1-1.ipynb",
      "provenance": [],
      "collapsed_sections": [],
      "authorship_tag": "ABX9TyPV267r4I3TbnM38Lr5Qojn",
      "include_colab_link": true
    },
    "kernelspec": {
      "name": "python3",
      "display_name": "Python 3"
    },
    "language_info": {
      "name": "python"
    }
  },
  "cells": [
    {
      "cell_type": "markdown",
      "metadata": {
        "id": "view-in-github",
        "colab_type": "text"
      },
      "source": [
        "<a href=\"https://colab.research.google.com/github/yasminmohamed22/ml2/blob/main/assignment1_1.ipynb\" target=\"_parent\"><img src=\"https://colab.research.google.com/assets/colab-badge.svg\" alt=\"Open In Colab\"/></a>"
      ]
    },
    {
      "cell_type": "code",
      "metadata": {
        "id": "Fx_9gwoa8iyo"
      },
      "source": [
        "import pandas as pd\n",
        "import numpy as np\n",
        "import json\n",
        "from sklearn.model_selection import train_test_split\n",
        "from matplotlib import pyplot\n",
        "import os\n",
        "from sklearn.model_selection import KFold"
      ],
      "execution_count": 191,
      "outputs": []
    },
    {
      "cell_type": "code",
      "metadata": {
        "id": "WmhYdXeY83tf",
        "colab": {
          "base_uri": "https://localhost:8080/",
          "height": 422
        },
        "outputId": "e774091b-75b6-4941-f4fe-1f5b9e48fc6d"
      },
      "source": [
        "data=pd.read_csv(\"/content/house_prices_data_training_data.csv\")\n",
        "datacopy = data\n",
        "data = data.dropna()\n",
        "data\n"
      ],
      "execution_count": 192,
      "outputs": [
        {
          "output_type": "execute_result",
          "data": {
            "text/html": [
              "<div>\n",
              "<style scoped>\n",
              "    .dataframe tbody tr th:only-of-type {\n",
              "        vertical-align: middle;\n",
              "    }\n",
              "\n",
              "    .dataframe tbody tr th {\n",
              "        vertical-align: top;\n",
              "    }\n",
              "\n",
              "    .dataframe thead th {\n",
              "        text-align: right;\n",
              "    }\n",
              "</style>\n",
              "<table border=\"1\" class=\"dataframe\">\n",
              "  <thead>\n",
              "    <tr style=\"text-align: right;\">\n",
              "      <th></th>\n",
              "      <th>id</th>\n",
              "      <th>date</th>\n",
              "      <th>price</th>\n",
              "      <th>bedrooms</th>\n",
              "      <th>bathrooms</th>\n",
              "      <th>sqft_living</th>\n",
              "      <th>sqft_lot</th>\n",
              "      <th>floors</th>\n",
              "      <th>waterfront</th>\n",
              "      <th>view</th>\n",
              "      <th>condition</th>\n",
              "      <th>grade</th>\n",
              "      <th>sqft_above</th>\n",
              "      <th>sqft_basement</th>\n",
              "      <th>yr_built</th>\n",
              "      <th>yr_renovated</th>\n",
              "      <th>zipcode</th>\n",
              "      <th>lat</th>\n",
              "      <th>long</th>\n",
              "      <th>sqft_living15</th>\n",
              "      <th>sqft_lot15</th>\n",
              "    </tr>\n",
              "  </thead>\n",
              "  <tbody>\n",
              "    <tr>\n",
              "      <th>0</th>\n",
              "      <td>7.129301e+09</td>\n",
              "      <td>20141013T000000</td>\n",
              "      <td>221900.0</td>\n",
              "      <td>3.0</td>\n",
              "      <td>1.00</td>\n",
              "      <td>1180.0</td>\n",
              "      <td>5650.0</td>\n",
              "      <td>1.0</td>\n",
              "      <td>0.0</td>\n",
              "      <td>0.0</td>\n",
              "      <td>3.0</td>\n",
              "      <td>7.0</td>\n",
              "      <td>1180.0</td>\n",
              "      <td>0.0</td>\n",
              "      <td>1955.0</td>\n",
              "      <td>0.0</td>\n",
              "      <td>98178.0</td>\n",
              "      <td>47.5112</td>\n",
              "      <td>-122.257</td>\n",
              "      <td>1340.0</td>\n",
              "      <td>5650.0</td>\n",
              "    </tr>\n",
              "    <tr>\n",
              "      <th>1</th>\n",
              "      <td>6.414100e+09</td>\n",
              "      <td>20141209T000000</td>\n",
              "      <td>538000.0</td>\n",
              "      <td>3.0</td>\n",
              "      <td>2.25</td>\n",
              "      <td>2570.0</td>\n",
              "      <td>7242.0</td>\n",
              "      <td>2.0</td>\n",
              "      <td>0.0</td>\n",
              "      <td>0.0</td>\n",
              "      <td>3.0</td>\n",
              "      <td>7.0</td>\n",
              "      <td>2170.0</td>\n",
              "      <td>400.0</td>\n",
              "      <td>1951.0</td>\n",
              "      <td>1991.0</td>\n",
              "      <td>98125.0</td>\n",
              "      <td>47.7210</td>\n",
              "      <td>-122.319</td>\n",
              "      <td>1690.0</td>\n",
              "      <td>7639.0</td>\n",
              "    </tr>\n",
              "    <tr>\n",
              "      <th>2</th>\n",
              "      <td>5.631500e+09</td>\n",
              "      <td>20150225T000000</td>\n",
              "      <td>180000.0</td>\n",
              "      <td>2.0</td>\n",
              "      <td>1.00</td>\n",
              "      <td>770.0</td>\n",
              "      <td>10000.0</td>\n",
              "      <td>1.0</td>\n",
              "      <td>0.0</td>\n",
              "      <td>0.0</td>\n",
              "      <td>3.0</td>\n",
              "      <td>6.0</td>\n",
              "      <td>770.0</td>\n",
              "      <td>0.0</td>\n",
              "      <td>1933.0</td>\n",
              "      <td>0.0</td>\n",
              "      <td>98028.0</td>\n",
              "      <td>47.7379</td>\n",
              "      <td>-122.233</td>\n",
              "      <td>2720.0</td>\n",
              "      <td>8062.0</td>\n",
              "    </tr>\n",
              "    <tr>\n",
              "      <th>3</th>\n",
              "      <td>2.487201e+09</td>\n",
              "      <td>20141209T000000</td>\n",
              "      <td>604000.0</td>\n",
              "      <td>4.0</td>\n",
              "      <td>3.00</td>\n",
              "      <td>1960.0</td>\n",
              "      <td>5000.0</td>\n",
              "      <td>1.0</td>\n",
              "      <td>0.0</td>\n",
              "      <td>0.0</td>\n",
              "      <td>5.0</td>\n",
              "      <td>7.0</td>\n",
              "      <td>1050.0</td>\n",
              "      <td>910.0</td>\n",
              "      <td>1965.0</td>\n",
              "      <td>0.0</td>\n",
              "      <td>98136.0</td>\n",
              "      <td>47.5208</td>\n",
              "      <td>-122.393</td>\n",
              "      <td>1360.0</td>\n",
              "      <td>5000.0</td>\n",
              "    </tr>\n",
              "    <tr>\n",
              "      <th>4</th>\n",
              "      <td>1.954401e+09</td>\n",
              "      <td>20150218T000000</td>\n",
              "      <td>510000.0</td>\n",
              "      <td>3.0</td>\n",
              "      <td>2.00</td>\n",
              "      <td>1680.0</td>\n",
              "      <td>8080.0</td>\n",
              "      <td>1.0</td>\n",
              "      <td>0.0</td>\n",
              "      <td>0.0</td>\n",
              "      <td>3.0</td>\n",
              "      <td>8.0</td>\n",
              "      <td>1680.0</td>\n",
              "      <td>0.0</td>\n",
              "      <td>1987.0</td>\n",
              "      <td>0.0</td>\n",
              "      <td>98074.0</td>\n",
              "      <td>47.6168</td>\n",
              "      <td>-122.045</td>\n",
              "      <td>1800.0</td>\n",
              "      <td>7503.0</td>\n",
              "    </tr>\n",
              "    <tr>\n",
              "      <th>...</th>\n",
              "      <td>...</td>\n",
              "      <td>...</td>\n",
              "      <td>...</td>\n",
              "      <td>...</td>\n",
              "      <td>...</td>\n",
              "      <td>...</td>\n",
              "      <td>...</td>\n",
              "      <td>...</td>\n",
              "      <td>...</td>\n",
              "      <td>...</td>\n",
              "      <td>...</td>\n",
              "      <td>...</td>\n",
              "      <td>...</td>\n",
              "      <td>...</td>\n",
              "      <td>...</td>\n",
              "      <td>...</td>\n",
              "      <td>...</td>\n",
              "      <td>...</td>\n",
              "      <td>...</td>\n",
              "      <td>...</td>\n",
              "      <td>...</td>\n",
              "    </tr>\n",
              "    <tr>\n",
              "      <th>17994</th>\n",
              "      <td>6.414100e+09</td>\n",
              "      <td>20150108T000000</td>\n",
              "      <td>320000.0</td>\n",
              "      <td>2.0</td>\n",
              "      <td>1.00</td>\n",
              "      <td>1802.0</td>\n",
              "      <td>11225.0</td>\n",
              "      <td>1.0</td>\n",
              "      <td>0.0</td>\n",
              "      <td>0.0</td>\n",
              "      <td>3.0</td>\n",
              "      <td>7.0</td>\n",
              "      <td>1802.0</td>\n",
              "      <td>0.0</td>\n",
              "      <td>1961.0</td>\n",
              "      <td>0.0</td>\n",
              "      <td>98125.0</td>\n",
              "      <td>47.7205</td>\n",
              "      <td>-122.323</td>\n",
              "      <td>1810.0</td>\n",
              "      <td>7332.0</td>\n",
              "    </tr>\n",
              "    <tr>\n",
              "      <th>17995</th>\n",
              "      <td>1.346300e+09</td>\n",
              "      <td>20140626T000000</td>\n",
              "      <td>1990000.0</td>\n",
              "      <td>5.0</td>\n",
              "      <td>3.00</td>\n",
              "      <td>4480.0</td>\n",
              "      <td>5000.0</td>\n",
              "      <td>2.5</td>\n",
              "      <td>0.0</td>\n",
              "      <td>0.0</td>\n",
              "      <td>5.0</td>\n",
              "      <td>12.0</td>\n",
              "      <td>3420.0</td>\n",
              "      <td>1060.0</td>\n",
              "      <td>1902.0</td>\n",
              "      <td>0.0</td>\n",
              "      <td>98112.0</td>\n",
              "      <td>47.6275</td>\n",
              "      <td>-122.315</td>\n",
              "      <td>3220.0</td>\n",
              "      <td>5600.0</td>\n",
              "    </tr>\n",
              "    <tr>\n",
              "      <th>17996</th>\n",
              "      <td>2.212210e+09</td>\n",
              "      <td>20140702T000000</td>\n",
              "      <td>253000.0</td>\n",
              "      <td>2.0</td>\n",
              "      <td>1.00</td>\n",
              "      <td>1310.0</td>\n",
              "      <td>7128.0</td>\n",
              "      <td>1.0</td>\n",
              "      <td>0.0</td>\n",
              "      <td>0.0</td>\n",
              "      <td>4.0</td>\n",
              "      <td>7.0</td>\n",
              "      <td>940.0</td>\n",
              "      <td>370.0</td>\n",
              "      <td>1980.0</td>\n",
              "      <td>0.0</td>\n",
              "      <td>98031.0</td>\n",
              "      <td>47.3958</td>\n",
              "      <td>-122.189</td>\n",
              "      <td>1400.0</td>\n",
              "      <td>7161.0</td>\n",
              "    </tr>\n",
              "    <tr>\n",
              "      <th>17997</th>\n",
              "      <td>2.050004e+08</td>\n",
              "      <td>20140915T000000</td>\n",
              "      <td>630000.0</td>\n",
              "      <td>3.0</td>\n",
              "      <td>2.50</td>\n",
              "      <td>2320.0</td>\n",
              "      <td>32772.0</td>\n",
              "      <td>2.0</td>\n",
              "      <td>0.0</td>\n",
              "      <td>0.0</td>\n",
              "      <td>3.0</td>\n",
              "      <td>9.0</td>\n",
              "      <td>2320.0</td>\n",
              "      <td>0.0</td>\n",
              "      <td>1992.0</td>\n",
              "      <td>0.0</td>\n",
              "      <td>98053.0</td>\n",
              "      <td>47.6304</td>\n",
              "      <td>-121.988</td>\n",
              "      <td>2610.0</td>\n",
              "      <td>33305.0</td>\n",
              "    </tr>\n",
              "    <tr>\n",
              "      <th>17998</th>\n",
              "      <td>2.892600e+09</td>\n",
              "      <td>20150106T000000</td>\n",
              "      <td>216000.0</td>\n",
              "      <td>2.0</td>\n",
              "      <td>1.00</td>\n",
              "      <td>1130.0</td>\n",
              "      <td>12500.0</td>\n",
              "      <td>1.0</td>\n",
              "      <td>0.0</td>\n",
              "      <td>0.0</td>\n",
              "      <td>4.0</td>\n",
              "      <td>7.0</td>\n",
              "      <td>1130.0</td>\n",
              "      <td>0.0</td>\n",
              "      <td>1953.0</td>\n",
              "      <td>0.0</td>\n",
              "      <td>98055.0</td>\n",
              "      <td>47.4514</td>\n",
              "      <td>-122.187</td>\n",
              "      <td>1270.0</td>\n",
              "      <td>10798.0</td>\n",
              "    </tr>\n",
              "  </tbody>\n",
              "</table>\n",
              "<p>17999 rows × 21 columns</p>\n",
              "</div>"
            ],
            "text/plain": [
              "                 id             date  ...  sqft_living15  sqft_lot15\n",
              "0      7.129301e+09  20141013T000000  ...         1340.0      5650.0\n",
              "1      6.414100e+09  20141209T000000  ...         1690.0      7639.0\n",
              "2      5.631500e+09  20150225T000000  ...         2720.0      8062.0\n",
              "3      2.487201e+09  20141209T000000  ...         1360.0      5000.0\n",
              "4      1.954401e+09  20150218T000000  ...         1800.0      7503.0\n",
              "...             ...              ...  ...            ...         ...\n",
              "17994  6.414100e+09  20150108T000000  ...         1810.0      7332.0\n",
              "17995  1.346300e+09  20140626T000000  ...         3220.0      5600.0\n",
              "17996  2.212210e+09  20140702T000000  ...         1400.0      7161.0\n",
              "17997  2.050004e+08  20140915T000000  ...         2610.0     33305.0\n",
              "17998  2.892600e+09  20150106T000000  ...         1270.0     10798.0\n",
              "\n",
              "[17999 rows x 21 columns]"
            ]
          },
          "metadata": {
            "tags": []
          },
          "execution_count": 192
        }
      ]
    },
    {
      "cell_type": "code",
      "metadata": {
        "id": "3NTpSlQK8_fs"
      },
      "source": [
        "y=data.price\n",
        "x=data.drop('price',axis=1)\n",
        "x=data.drop('date',axis=1)\n",
        "datacopy = datacopy.drop('date',axis=1)\n",
        "datacopy = datacopy.drop('id', axis=1)"
      ],
      "execution_count": 193,
      "outputs": []
    },
    {
      "cell_type": "code",
      "metadata": {
        "id": "77CXLS7T9CY5"
      },
      "source": [
        "X_train, X_test, y_train, y_test = train_test_split(x, y, test_size=0.2)\n",
        "X_train, X_val, y_train, y_val = train_test_split(X_train, y_train, test_size=0.2)"
      ],
      "execution_count": 194,
      "outputs": []
    },
    {
      "cell_type": "code",
      "metadata": {
        "colab": {
          "base_uri": "https://localhost:8080/"
        },
        "id": "ddTowL3K9GFY",
        "outputId": "d1a635c6-2cd8-4845-c5cd-5540e06cf668"
      },
      "source": [
        "print(X_train)"
      ],
      "execution_count": 195,
      "outputs": [
        {
          "output_type": "stream",
          "text": [
            "                 id     price  bedrooms  ...     long  sqft_living15  sqft_lot15\n",
            "7797   9.432900e+09  325000.0       4.0  ... -122.009         2270.0      8770.0\n",
            "56     9.478501e+09  292500.0       4.0  ... -122.114         2250.0      4500.0\n",
            "3224   7.885801e+09  270000.0       4.0  ... -122.153         3010.0      5772.0\n",
            "15330  9.536600e+09  520000.0       4.0  ... -122.325         1940.0      8402.0\n",
            "15353  6.442100e+08  780000.0       4.0  ... -122.192         2600.0     11556.0\n",
            "...             ...       ...       ...  ...      ...            ...         ...\n",
            "15168  8.835800e+09  316000.0       1.0  ... -121.768         1780.0     21094.0\n",
            "4745   1.180500e+09  353000.0       4.0  ... -122.230         1910.0      7210.0\n",
            "17458  1.180005e+09  463000.0       4.0  ... -122.229         2230.0      6000.0\n",
            "5921   7.802900e+09  335000.0       2.0  ... -121.838         1460.0     69260.0\n",
            "12746  4.077800e+09  518000.0       4.0  ... -122.283         1590.0      8100.0\n",
            "\n",
            "[11519 rows x 20 columns]\n"
          ],
          "name": "stdout"
        }
      ]
    },
    {
      "cell_type": "code",
      "metadata": {
        "id": "RO3vFGWq9I9p"
      },
      "source": [
        "def  featureNormalize(X_train):\n",
        "    mu = np.mean(X_train, axis=0);\n",
        "    sigma = np.std(X_train, axis=0);\n",
        "    X_norm = (X_train - mu) / sigma\n",
        "    return X_norm\n",
        "\n",
        "X_norm = featureNormalize(X_train)\n"
      ],
      "execution_count": 196,
      "outputs": []
    },
    {
      "cell_type": "code",
      "metadata": {
        "colab": {
          "base_uri": "https://localhost:8080/"
        },
        "id": "z0bgR3NZ9OPZ",
        "outputId": "aa2a05ec-6f6d-425f-e5ff-886bd859f234"
      },
      "source": [
        "m = np.size(X_train,0) \n",
        "\n",
        "\n",
        "allones = np.ones(X_train.shape[0])\n",
        "X_norm['x0'] = allones\n",
        "print(\"X_normmm:\")\n",
        "print(X_norm)"
      ],
      "execution_count": 197,
      "outputs": [
        {
          "output_type": "stream",
          "text": [
            "X_normmm:\n",
            "             id     price  bedrooms  ...  sqft_living15  sqft_lot15   x0\n",
            "7797   1.703829 -0.571564  0.709960  ...       0.438918   -0.162514  1.0\n",
            "56     1.719797 -0.659925  0.709960  ...       0.409240   -0.319780  1.0\n",
            "3224   1.162077 -0.721099  0.709960  ...       1.537006   -0.272931  1.0\n",
            "15330  1.740141 -0.041398  0.709960  ...      -0.050770   -0.176067  1.0\n",
            "15353 -1.373731  0.665490  0.709960  ...       0.928606   -0.059904  1.0\n",
            "...         ...       ...       ...  ...            ...         ...  ...\n",
            "15168  1.494741 -0.596034 -2.587191  ...      -0.288194    0.291384  1.0\n",
            "4745  -1.185937 -0.495438  0.709960  ...      -0.095287   -0.219969  1.0\n",
            "17458 -1.186110 -0.196370  0.709960  ...       0.379562   -0.264534  1.0\n",
            "5921   1.133047 -0.544376 -1.488140  ...      -0.763043    2.065358  1.0\n",
            "12746 -0.171381 -0.046836  0.709960  ...      -0.570136   -0.187190  1.0\n",
            "\n",
            "[11519 rows x 21 columns]\n"
          ],
          "name": "stdout"
        }
      ]
    },
    {
      "cell_type": "code",
      "metadata": {
        "id": "Xoy5imwj9Q7e"
      },
      "source": [
        "def computeCost(X, y, theta):\n",
        "    J = (np.dot(((np.dot(X, theta) - y).T), (np.dot(X, theta) - y))) / 2 * m\n",
        "    return J"
      ],
      "execution_count": 198,
      "outputs": []
    },
    {
      "cell_type": "code",
      "metadata": {
        "id": "Xv9NeDLX9U7G"
      },
      "source": [
        "def gradientDescent(X, y, theta, alpha, num_iters):\n",
        "    J_history = []\n",
        "    for i in range(num_iters):\n",
        "        theta = theta - (alpha/m)*(np.dot(X,theta.T)-y).dot(X)\n",
        "        J_history.append(computeCost(X, y, theta))\n",
        "    return theta, J_history"
      ],
      "execution_count": 199,
      "outputs": []
    },
    {
      "cell_type": "code",
      "metadata": {
        "id": "UNbzeA-g9YyM"
      },
      "source": [
        "alpha = 0.01\n",
        "num_iters = 700\n",
        "theta = np.zeros(np.size(X_norm,1)) "
      ],
      "execution_count": 200,
      "outputs": []
    },
    {
      "cell_type": "code",
      "metadata": {
        "id": "XOxnlB-M9cgz"
      },
      "source": [
        "theta1, J_history = gradientDescent(X_norm, y_train, theta, alpha, num_iters)\n",
        "#1st hypothesis"
      ],
      "execution_count": 201,
      "outputs": []
    },
    {
      "cell_type": "code",
      "metadata": {
        "colab": {
          "base_uri": "https://localhost:8080/",
          "height": 290
        },
        "id": "43CQQctA9ffW",
        "outputId": "78f46bba-d7b9-4c32-b231-e59c4032aca2"
      },
      "source": [
        "pyplot.plot(np.arange(len(J_history)), J_history, lw=2)\n",
        "pyplot.xlabel('Number of iterations')\n",
        "pyplot.ylabel('Cost J')\n",
        "pyplot.show()\n",
        "# convergence graph\n"
      ],
      "execution_count": 202,
      "outputs": [
        {
          "output_type": "display_data",
          "data": {
            "image/png": "[encoded data removed]",
            "text/plain": [
              "<Figure size 432x288 with 1 Axes>"
            ]
          },
          "metadata": {
            "tags": [],
            "needs_background": "light"
          }
        }
      ]
    },
    {
      "cell_type": "code",
      "metadata": {
        "id": "_zdfwhfW9mC0"
      },
      "source": [
        "X_norm[\"bedrooms\"] = np.square(X_norm[\"bedrooms\"])\n",
        "theta2, J_history = gradientDescent(X_norm, y_train, theta, alpha, num_iters)\n",
        "#2nd hypothesis"
      ],
      "execution_count": 203,
      "outputs": []
    },
    {
      "cell_type": "code",
      "metadata": {
        "colab": {
          "base_uri": "https://localhost:8080/",
          "height": 290
        },
        "id": "Gv60CnkM9pjn",
        "outputId": "0e89aa8e-033c-4146-d502-52bb288dc3fb"
      },
      "source": [
        "pyplot.plot(np.arange(len(J_history)), J_history, lw=2)\n",
        "pyplot.xlabel('Number of iterations')\n",
        "pyplot.ylabel('Cost J')\n",
        "pyplot.show()\n",
        "#convergence graph"
      ],
      "execution_count": 204,
      "outputs": [
        {
          "output_type": "display_data",
          "data": {
            "image/png": "[encoded data removed]",
            "text/plain": [
              "<Figure size 432x288 with 1 Axes>"
            ]
          },
          "metadata": {
            "tags": [],
            "needs_background": "light"
          }
        }
      ]
    },
    {
      "cell_type": "code",
      "metadata": {
        "id": "vkWXdDJV9wF5"
      },
      "source": [
        "X_norm[\"sqft_lot15\"] = np.square(X_norm[\"sqft_lot15\"])\n",
        "theta3, J_history = gradientDescent(X_norm, y_train, theta, alpha, num_iters)\n",
        "#3rd HYPOTHESIS"
      ],
      "execution_count": 205,
      "outputs": []
    },
    {
      "cell_type": "code",
      "metadata": {
        "colab": {
          "base_uri": "https://localhost:8080/",
          "height": 290
        },
        "id": "RlecdPka9yec",
        "outputId": "3930c7bc-f93d-4fc2-a555-4f30de59c78d"
      },
      "source": [
        "pyplot.plot(np.arange(len(J_history)), J_history, lw=2)\n",
        "pyplot.xlabel('Number of iterations')\n",
        "pyplot.ylabel('Cost J')\n",
        "pyplot.show()\n",
        "# convergence graph"
      ],
      "execution_count": 206,
      "outputs": [
        {
          "output_type": "display_data",
          "data": {
            "image/png": "[encoded data removed]",
            "text/plain": [
              "<Figure size 432x288 with 1 Axes>"
            ]
          },
          "metadata": {
            "tags": [],
            "needs_background": "light"
          }
        }
      ]
    },
    {
      "cell_type": "code",
      "metadata": {
        "colab": {
          "base_uri": "https://localhost:8080/"
        },
        "id": "RAvS3kiX91D-",
        "outputId": "612c103c-5d2c-4de7-9416-231ad2befa42"
      },
      "source": [
        "print('theta1 computed from gradient descent: {:s}'.format(str(theta1)))\n",
        "print('theta2 computed from gradient descent: {:s}'.format(str(theta2)))\n",
        "print('theta3 computed from gradient descent: {:s}'.format(str(theta3)))\n"
      ],
      "execution_count": 207,
      "outputs": [
        {
          "output_type": "stream",
          "text": [
            "theta1 computed from gradient descent: id                 -450.218671\n",
            "price            312748.716488\n",
            "bedrooms         -10893.825958\n",
            "bathrooms          4735.988164\n",
            "sqft_living       16312.134665\n",
            "sqft_lot           1619.433269\n",
            "floors            -1002.043815\n",
            "waterfront         9221.586376\n",
            "view               4653.344219\n",
            "condition          2638.869222\n",
            "grade             20543.403239\n",
            "sqft_above        15858.271174\n",
            "sqft_basement      4354.042763\n",
            "yr_built         -17407.580916\n",
            "yr_renovated        205.481832\n",
            "zipcode           -9364.091231\n",
            "lat               14577.644345\n",
            "long              -5838.797220\n",
            "sqft_living15      -707.168085\n",
            "sqft_lot15        -3468.726374\n",
            "x0               534755.485526\n",
            "Name: price, dtype: float64\n",
            "theta2 computed from gradient descent: id                 -527.566334\n",
            "price            313992.817706\n",
            "bedrooms           1680.116585\n",
            "bathrooms          -145.897074\n",
            "sqft_living       10128.057728\n",
            "sqft_lot           1913.351667\n",
            "floors            -1267.417914\n",
            "waterfront         9651.498471\n",
            "view               5275.671398\n",
            "condition          3506.924553\n",
            "grade             27273.402976\n",
            "sqft_above        10386.382727\n",
            "sqft_basement      1727.010661\n",
            "yr_built         -14376.862322\n",
            "yr_renovated       1401.636832\n",
            "zipcode           -8280.368874\n",
            "lat               14456.790667\n",
            "long              -5815.583697\n",
            "sqft_living15       657.512806\n",
            "sqft_lot15        -2522.057418\n",
            "x0               531101.363678\n",
            "Name: price, dtype: float64\n",
            "theta3 computed from gradient descent: id                 -470.969591\n",
            "price            314194.383508\n",
            "bedrooms           1713.207678\n",
            "bathrooms           106.239904\n",
            "sqft_living       10014.189504\n",
            "sqft_lot           -395.521772\n",
            "floors            -1356.792336\n",
            "waterfront         9559.778017\n",
            "view               5313.461647\n",
            "condition          3456.520694\n",
            "grade             27383.147252\n",
            "sqft_above        10333.488148\n",
            "sqft_basement      1592.122933\n",
            "yr_built         -14473.761362\n",
            "yr_renovated       1363.638482\n",
            "zipcode           -8287.397223\n",
            "lat               14416.356731\n",
            "long              -5877.061988\n",
            "sqft_living15       399.498292\n",
            "sqft_lot15           12.383836\n",
            "x0               530994.604082\n",
            "Name: price, dtype: float64\n"
          ],
          "name": "stdout"
        }
      ]
    },
    {
      "cell_type": "code",
      "metadata": {
        "colab": {
          "base_uri": "https://localhost:8080/"
        },
        "id": "-mGL5B8q99aA",
        "outputId": "82b9f04b-1aa2-4b5a-8d88-fde4adc7b1eb"
      },
      "source": [
        "X_normval = featureNormalize(X_val)\n",
        "allones = np.ones(X_val.shape[0])\n",
        "X_normval ['x0'] = allones\n",
        "\n",
        "print(\"Validation :\")\n",
        "#VALIDATION theta1\n",
        "J1 = computeCost(X_normval, y_val, theta1)\n",
        "print(\"J1\",J1)\n",
        "\n",
        "#VALIDATION theta2\n",
        "X_normval[\"bedrooms\"] = np.square(X_normval[\"bedrooms\"])\n",
        "J2 = computeCost(X_normval, y_val, theta2)\n",
        "print(\"J2\",J2)\n",
        "\n",
        "#VALIDATION theta3\n",
        "X_normval[\"sqft_lot15\"] = np.square(X_normval[\"sqft_lot15\"])\n",
        "J3 = computeCost(X_normval, y_val, theta3)\n",
        "print(\"J3\",J3)"
      ],
      "execution_count": 208,
      "outputs": [
        {
          "output_type": "stream",
          "text": [
            "Validation :\n",
            "J1 2.011634422453688e+16\n",
            "J2 1.994286460212963e+16\n",
            "J3 1.9831734600179532e+16\n"
          ],
          "name": "stdout"
        }
      ]
    },
    {
      "cell_type": "code",
      "metadata": {
        "colab": {
          "base_uri": "https://localhost:8080/"
        },
        "id": "6ScUOf5A-Fnr",
        "outputId": "5d938ac5-aa9e-46e8-c167-5500c170949f"
      },
      "source": [
        "X_normtest = featureNormalize(X_test)\n",
        "allones = np.ones(X_test.shape[0])\n",
        "X_normtest ['x0'] = allones\n",
        "\n",
        "print(\"Test :\")\n",
        "#TESTTT theta1\n",
        "J4 = computeCost(X_normtest, y_test, theta)\n",
        "print(\"J4\",J4)\n",
        "#TESTTT theta2\n",
        "X_normtest[\"bedrooms\"] = np.square(X_normtest[\"bedrooms\"])\n",
        "J5 = computeCost(X_normtest, y_test, theta2)\n",
        "print(\"J5\",J5)\n",
        "#TESTTT theta3\n",
        "X_normtest[\"sqft_lot15\"] = np.square(X_normtest[\"sqft_lot15\"])\n",
        "J6 = computeCost(X_normtest, y_test, theta3)\n",
        "print(\"J6\",J6)"
      ],
      "execution_count": 209,
      "outputs": [
        {
          "output_type": "stream",
          "text": [
            "Test :\n",
            "J4 8.208082287709699e+18\n",
            "J5 2.9968289279477108e+16\n",
            "J6 3.0297619581220904e+16\n"
          ],
          "name": "stdout"
        }
      ]
    }
  ]
}